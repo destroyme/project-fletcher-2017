{
 "cells": [
  {
   "cell_type": "code",
   "execution_count": 1,
   "metadata": {
    "collapsed": true
   },
   "outputs": [],
   "source": [
    "import requests\n",
    "import grequests # check simple docs here: https://github.com/kennethreitz/grequests"
   ]
  },
  {
   "cell_type": "code",
   "execution_count": null,
   "metadata": {
    "collapsed": true
   },
   "outputs": [],
   "source": [
    "# for interfacing with a firebase API, always append .json to the url.\n",
    "url_maxitem = 'https://hacker-news.firebaseio.com/v0/maxitem.json'"
   ]
  },
  {
   "cell_type": "code",
   "execution_count": null,
   "metadata": {
    "collapsed": true
   },
   "outputs": [],
   "source": [
    "resp = requests.get(url_maxitem)"
   ]
  },
  {
   "cell_type": "code",
   "execution_count": null,
   "metadata": {
    "collapsed": true
   },
   "outputs": [],
   "source": [
    "maxitem = resp.json()"
   ]
  },
  {
   "cell_type": "code",
   "execution_count": null,
   "metadata": {
    "collapsed": true
   },
   "outputs": [],
   "source": [
    "# base url for the API\n",
    "baseurl = 'https://hacker-news.firebaseio.com/v0/'\n",
    "\n",
    "# pretty much has everything within this\n",
    "itemurl = 'https://hacker-news.firebaseio.com/v0/item/'\n",
    "\n",
    "# all user data can be found here\n",
    "userurl = 'https://hacker-news.firebaseio.com/v0/user/'"
   ]
  },
  {
   "cell_type": "code",
   "execution_count": null,
   "metadata": {
    "collapsed": true
   },
   "outputs": [],
   "source": [
    "top_of_stack = itemurl + str(maxitem) + '.json'"
   ]
  },
  {
   "cell_type": "code",
   "execution_count": null,
   "metadata": {
    "collapsed": true
   },
   "outputs": [],
   "source": [
    "failed_requests = []\n",
    "def exception_handler(request, exception):\n",
    "    print(request, exception)\n",
    "    failed_requests.append([request, exception])"
   ]
  },
  {
   "cell_type": "code",
   "execution_count": null,
   "metadata": {
    "collapsed": true
   },
   "outputs": [],
   "source": [
    "data = []\n",
    "for i in range(maxitem, maxitem-100, -5):\n",
    "    # Batch the urls\n",
    "    urls = [itemurl + str(num) + '.json' for num in range(i, i-5, -1)]\n",
    "    \n",
    "    # Creates a set of unsent Requests:\n",
    "    rs = (grequests.get(u) for u in urls)\n",
    "    \n",
    "    # send the requests\n",
    "    resp = grequests.imap(rs, exception_handler = exception_handler)\n",
    "    \n",
    "    # get the data\n",
    "    for rs in resp:\n",
    "        if rs != None:\n",
    "            data.append(rs.json())\n",
    "            "
   ]
  },
  {
   "cell_type": "code",
   "execution_count": null,
   "metadata": {
    "collapsed": true
   },
   "outputs": [],
   "source": [
    "def api_urls(start, end=maxitem+1):\n",
    "    for item in range(start, end):\n",
    "        yield itemurl + str(item) + '.json'"
   ]
  },
  {
   "cell_type": "code",
   "execution_count": null,
   "metadata": {},
   "outputs": [],
   "source": [
    "ind = 0\n",
    "for i in api_urls(1, 101):\n",
    "    print(i)\n",
    "    if ind == 10000:\n",
    "        break\n",
    "    else:\n",
    "        ind += 1"
   ]
  },
  {
   "cell_type": "code",
   "execution_count": null,
   "metadata": {
    "collapsed": true
   },
   "outputs": [],
   "source": []
  },
  {
   "cell_type": "markdown",
   "metadata": {
    "collapsed": true
   },
   "source": [
    "# Hckrnews"
   ]
  },
  {
   "cell_type": "code",
   "execution_count": null,
   "metadata": {
    "collapsed": true
   },
   "outputs": [],
   "source": [
    "# base url for the API\n",
    "baseurl = 'http://hckrnews.com/data/'\n",
    "\n",
    "# pretty much has everything within this\n",
    "itemurl = 'https://hacker-news.firebaseio.com/v0/item/'\n",
    "\n",
    "# all user data can be found here\n",
    "userurl = 'https://hacker-news.firebaseio.com/v0/user/'"
   ]
  }
 ],
 "metadata": {
  "kernelspec": {
   "display_name": "Python 3",
   "language": "python",
   "name": "python3"
  },
  "language_info": {
   "codemirror_mode": {
    "name": "ipython",
    "version": 3
   },
   "file_extension": ".py",
   "mimetype": "text/x-python",
   "name": "python",
   "nbconvert_exporter": "python",
   "pygments_lexer": "ipython3",
   "version": "3.6.1"
  }
 },
 "nbformat": 4,
 "nbformat_minor": 2
}
