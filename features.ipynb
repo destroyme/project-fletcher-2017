{
 "cells": [
  {
   "cell_type": "code",
   "execution_count": 1,
   "metadata": {
    "collapsed": true
   },
   "outputs": [],
   "source": [
    "# MongoDB\n",
    "import pymongo\n",
    "from pymongo import MongoClient\n",
    "\n",
    "# NLP\n",
    "import nltk\n",
    "# from nltk.tokenize import sent_tokenize # sentence tokenization if you need\n",
    "from nltk.tokenize import word_tokenize\n",
    "from nltk.corpus import stopwords\n",
    "from sklearn.feature_extraction.text import CountVectorizer\n",
    "from sklearn.decomposition import LatentDirichletAllocation\n",
    "\n",
    "# STD\n",
    "import json\n",
    "import re\n",
    "import string\n",
    "import random\n",
    "import numpy as np\n",
    "import pandas as pd\n",
    "import gc\n",
    "import sys\n",
    "import matplotlib.pyplot as plt\n",
    "import matplotlib\n",
    "import seaborn as sns\n",
    "from datetime import datetime\n",
    "from IPython import display\n",
    "\n",
    "\n",
    "# Setup nltk corpora path\n",
    "nltk_path = '~/nltk_data'\n",
    "\n",
    "# Path is a list of directories where the NLTK data package might reside. \n",
    "# These directories will be checked in order when looking for a \n",
    "# resource in the data package. Note that this allows users to \n",
    "# substitute in their own versions of resources, if they have them\n",
    "# (e.g., in their home directory under ~/nltk_data).\n",
    "nltk.data.path.insert(0, nltk_path)\n",
    "\n",
    "# Random seed\n",
    "rseed = 4444\n",
    "\n",
    "sns.set_context('poster')\n",
    "%matplotlib inline\n",
    "# %matplotlib notebook"
   ]
  },
  {
   "cell_type": "code",
   "execution_count": null,
   "metadata": {
    "collapsed": true
   },
   "outputs": [],
   "source": [
    "client = MongoClient('localhost', 27017)"
   ]
  },
  {
   "cell_type": "code",
   "execution_count": null,
   "metadata": {
    "collapsed": true
   },
   "outputs": [],
   "source": [
    "hn = client.hn"
   ]
  },
  {
   "cell_type": "code",
   "execution_count": null,
   "metadata": {
    "collapsed": true
   },
   "outputs": [],
   "source": [
    "client.database_names()"
   ]
  },
  {
   "cell_type": "code",
   "execution_count": null,
   "metadata": {
    "collapsed": true
   },
   "outputs": [],
   "source": [
    "hn.collection_names()"
   ]
  },
  {
   "cell_type": "code",
   "execution_count": null,
   "metadata": {
    "collapsed": true
   },
   "outputs": [],
   "source": [
    "hn.all.count()"
   ]
  },
  {
   "cell_type": "markdown",
   "metadata": {},
   "source": [
    "# Structuring the Data"
   ]
  },
  {
   "cell_type": "markdown",
   "metadata": {},
   "source": [
    "# Preprocessing"
   ]
  },
  {
   "cell_type": "code",
   "execution_count": 2,
   "metadata": {
    "collapsed": true
   },
   "outputs": [],
   "source": [
    "from nltk.corpus import wordnet\n",
    "from nltk.stem.wordnet import WordNetLemmatizer\n",
    "from nltk.corpus import stopwords\n",
    "from nltk.tokenize import word_tokenize"
   ]
  },
  {
   "cell_type": "code",
   "execution_count": 3,
   "metadata": {
    "collapsed": true
   },
   "outputs": [],
   "source": [
    "stop_words = set(stopwords.words())\n",
    "stop_words.add('hn')\n",
    "stop_words.add('http')\n",
    "stop_words.add('like')\n",
    "stop_words.add('would')\n",
    "stop_words.add('yc')\n",
    "stop_words.add('ask')\n",
    "stop_words.add('p')\n",
    "stop_words.add('b')\n",
    "stop_words.add('href')\n",
    "stop_words.add('nofollow')\n",
    "stop_words.add('org')\n",
    "stop_words.add('rel')\n",
    "stop_words.add('id')\n",
    "stop_words.add('www')\n",
    "# stop_words.add('blockquote')\n",
    "# stop_words.add('blockquotes')"
   ]
  },
  {
   "cell_type": "code",
   "execution_count": 4,
   "metadata": {
    "collapsed": true
   },
   "outputs": [],
   "source": [
    "def generalize_fun(corpus, lambda_fun):\n",
    "    # must handle a list of lists (tokenized docs) and also a simple list\n",
    "    \n",
    "    if isinstance(corpus[0], list):\n",
    "        # list of lists\n",
    "        corpus = map(lambda_fun, corpus)\n",
    "    else:\n",
    "        # single list\n",
    "        corpus = lambda_fun(corpus)\n",
    "        \n",
    "    return list(corpus)"
   ]
  },
  {
   "cell_type": "code",
   "execution_count": 5,
   "metadata": {
    "collapsed": true
   },
   "outputs": [],
   "source": [
    "def lower_alpha_num(corpus):\n",
    "    # convert to lower case\n",
    "    corpus = map(str.lower, corpus)\n",
    "    \n",
    "    # remove alpha-numerical words\n",
    "    corpus = map(lambda x: re.sub(r\"\\w*\\d\\w*\", '', x), corpus)\n",
    "    \n",
    "    # remove new lines\n",
    "    corpus = map(lambda x: re.sub(r\"\\\\n\", ' ', x), corpus)\n",
    "    \n",
    "    return list(corpus)"
   ]
  },
  {
   "cell_type": "code",
   "execution_count": 6,
   "metadata": {
    "collapsed": true
   },
   "outputs": [],
   "source": [
    "def remove_links(corpus):\n",
    "    # remove all tags\n",
    "    corpus = list(map(lambda x: re.sub(r\"<.*?>\", \"\", x), corpus))\n",
    "    \n",
    "    # remove actual links that might be embedded\n",
    "    corpus = list(map(lambda x: re.sub(r\"http\\S+\", \"\", x), corpus))\n",
    "    \n",
    "    return corpus"
   ]
  },
  {
   "cell_type": "code",
   "execution_count": 7,
   "metadata": {
    "collapsed": true
   },
   "outputs": [],
   "source": [
    "def remove_punct(corpus):\n",
    "    \"\"\"Punctuation Removal\"\"\"\n",
    "    # regular expression to remove punctuation\n",
    "    punc_re = re.compile('[%s]' % re.escape(string.punctuation))\n",
    "    corpus = map(lambda x: punc_re.sub(' ', x), corpus)\n",
    "    return list(corpus)"
   ]
  },
  {
   "cell_type": "code",
   "execution_count": 8,
   "metadata": {
    "collapsed": true
   },
   "outputs": [],
   "source": [
    "def remove_sws(corpus):\n",
    "    \"\"\"Stopword removal\"\"\"\n",
    "    filter_fun = lambda x: list(filter(lambda x: x not in stop_words, x))\n",
    "\n",
    "    corpus = generalize_fun(corpus, filter_fun)\n",
    "    return list(corpus)"
   ]
  },
  {
   "cell_type": "code",
   "execution_count": 9,
   "metadata": {
    "collapsed": true
   },
   "outputs": [],
   "source": [
    "def lemmatize(corpus):\n",
    "    # perform lemmatization\n",
    "    lemmatizer = WordNetLemmatizer()\n",
    "    \n",
    "    lemmatizer_fun = lambda x: lemmatizer.lemmatize(x, get_wordnet_pos(x))\n",
    "    lemmatizer_fun_outer = lambda x: list(map(lemmatizer_fun, x))\n",
    "\n",
    "    corpus = generalize_fun(corpus, lemmatizer_fun_outer)\n",
    "    return corpus"
   ]
  },
  {
   "cell_type": "code",
   "execution_count": 10,
   "metadata": {
    "collapsed": true
   },
   "outputs": [],
   "source": [
    "def get_wordnet_pos(treebank_tag):\n",
    "    \"\"\"Convert the part-of-speech naming scheme\n",
    "       from the nltk default to that which is\n",
    "       recognized by the WordNet lemmatizer\"\"\"\n",
    "\n",
    "    if treebank_tag.startswith('J'):\n",
    "        return wordnet.ADJ\n",
    "    elif treebank_tag.startswith('V'):\n",
    "        return wordnet.VERB\n",
    "    elif treebank_tag.startswith('N'):\n",
    "        return wordnet.NOUN\n",
    "    elif treebank_tag.startswith('R'):\n",
    "        return wordnet.ADV\n",
    "    else:\n",
    "        return wordnet.NOUN"
   ]
  },
  {
   "cell_type": "code",
   "execution_count": 11,
   "metadata": {
    "collapsed": true
   },
   "outputs": [],
   "source": [
    "def word_tokens(corpus):\n",
    "    return list(map(word_tokenize, corpus))"
   ]
  },
  {
   "cell_type": "code",
   "execution_count": 12,
   "metadata": {},
   "outputs": [
    {
     "data": {
      "text/plain": [
       "678"
      ]
     },
     "execution_count": 12,
     "metadata": {},
     "output_type": "execute_result"
    }
   ],
   "source": [
    "gc.collect()"
   ]
  },
  {
   "cell_type": "markdown",
   "metadata": {},
   "source": [
    "# Yearly Topic Modelling"
   ]
  },
  {
   "cell_type": "code",
   "execution_count": 13,
   "metadata": {
    "collapsed": true
   },
   "outputs": [],
   "source": [
    "import dill"
   ]
  },
  {
   "cell_type": "code",
   "execution_count": 14,
   "metadata": {
    "collapsed": true
   },
   "outputs": [],
   "source": [
    "with open('2016_2010_threads.pkl', 'rb') as f:\n",
    "    threads = dill.load(f)"
   ]
  },
  {
   "cell_type": "code",
   "execution_count": null,
   "metadata": {
    "collapsed": true
   },
   "outputs": [],
   "source": [
    "for i,(k,v) in enumerate(threads.items()):\n",
    "    if i == 50:\n",
    "        break\n",
    "    print(k,v)"
   ]
  },
  {
   "cell_type": "code",
   "execution_count": null,
   "metadata": {
    "collapsed": true
   },
   "outputs": [],
   "source": [
    "stories = hn.all.find({\"timestamp\": { \"$gte\" : datetime(2010,1,1), \n",
    "                                      \"$lte\" : datetime(2010,12,31)},\n",
    "                       \"title\"    : { \"$exists\" : True },\n",
    "                       \"type\"     :   \"story\",\n",
    "                       \"descendants\":{\"$gte\": 10}\n",
    "                      })"
   ]
  },
  {
   "cell_type": "code",
   "execution_count": null,
   "metadata": {
    "collapsed": true
   },
   "outputs": [],
   "source": [
    "stories_2016 = hn.all.find({\n",
    "                       \"timestamp\": { \"$gte\" : datetime(2016,1,1), \n",
    "                                      \"$lte\" : datetime(2016,12,31)},\n",
    "                       \"title\"    : { \"$exists\" : True },\n",
    "                       \"type\"     :   \"story\",\n",
    "                       \"descendants\":{\"$gte\": 10}\n",
    "                      })"
   ]
  },
  {
   "cell_type": "code",
   "execution_count": null,
   "metadata": {},
   "outputs": [],
   "source": [
    "threads = {}\n",
    "for index, data in enumerate(stories):\n",
    "    _id = data['id']\n",
    "    \n",
    "    threads[_id] = {}\n",
    "    threads[_id]['text'] = data['title']\n",
    "    threads[_id]['timestamp'] = data['timestamp']\n",
    "    threads[_id]['kids'] = data['kids']\n",
    "    \n",
    "    try:\n",
    "        # catch the offchance a thread has text as well\n",
    "        threads[_id]['text'] += ' ' + data['text']\n",
    "    except:\n",
    "        pass\n",
    "    \n",
    "    print(index)\n",
    "    display.clear_output(wait=True)"
   ]
  },
  {
   "cell_type": "code",
   "execution_count": null,
   "metadata": {},
   "outputs": [],
   "source": [
    "for index, data in enumerate(stories_2016):\n",
    "    _id = data['id']\n",
    "    \n",
    "    threads[_id] = {}\n",
    "    threads[_id]['text'] = data['title']\n",
    "    threads[_id]['timestamp'] = data['timestamp']\n",
    "    threads[_id]['kids'] = data['kids']\n",
    "    \n",
    "    try:\n",
    "        # catch the offchance a thread has text as well\n",
    "        threads[_id]['text'] += ' ' + data['text']\n",
    "    except:\n",
    "        pass\n",
    "    \n",
    "    print(index)\n",
    "    display.clear_output(wait=True)"
   ]
  },
  {
   "cell_type": "code",
   "execution_count": null,
   "metadata": {
    "collapsed": true
   },
   "outputs": [],
   "source": [
    "# in each thread\n",
    "ids = []\n",
    "for data in threads.values():\n",
    "    # if there are more than 10 children, randomly sample 10\n",
    "    if len(data['kids']) > 10:\n",
    "        children = random.sample(data['kids'], 10)\n",
    "    else:\n",
    "        children = data['kids']\n",
    "    \n",
    "    ids.extend(map(int, children))\n",
    "    \n",
    "# get those ids, and get the text\n",
    "# add that text to the thread"
   ]
  },
  {
   "cell_type": "code",
   "execution_count": null,
   "metadata": {
    "collapsed": true
   },
   "outputs": [],
   "source": [
    "query_comments = hn.all.find({'id' : {'$in' : ids}})"
   ]
  },
  {
   "cell_type": "code",
   "execution_count": null,
   "metadata": {
    "collapsed": true
   },
   "outputs": [],
   "source": [
    "for comment in query_comments:\n",
    "    _id = comment['parent']\n",
    "    try:\n",
    "        # catch all the deleted and other strange ones\n",
    "        threads[_id]['text'] += ' ' + comment['text']\n",
    "    except:\n",
    "        pass\n",
    "#         print('Failed on id:', comment['id'])"
   ]
  },
  {
   "cell_type": "code",
   "execution_count": 15,
   "metadata": {
    "collapsed": true
   },
   "outputs": [],
   "source": [
    "corpera = []\n",
    "for data in threads.values():\n",
    "    corpera.append(data['text'])"
   ]
  },
  {
   "cell_type": "code",
   "execution_count": 16,
   "metadata": {
    "collapsed": true
   },
   "outputs": [],
   "source": [
    "clean_text = lemmatize(\n",
    "             remove_sws(\n",
    "             word_tokens(\n",
    "             remove_punct(\n",
    "             remove_links(\n",
    "             lower_alpha_num(corpera))))))"
   ]
  },
  {
   "cell_type": "code",
   "execution_count": 17,
   "metadata": {
    "collapsed": true
   },
   "outputs": [],
   "source": [
    "count_text = []\n",
    "for i in clean_text:\n",
    "    count_text.append(\" \".join(i))"
   ]
  },
  {
   "cell_type": "markdown",
   "metadata": {},
   "source": [
    "### Topic Modelling"
   ]
  },
  {
   "cell_type": "code",
   "execution_count": 18,
   "metadata": {
    "collapsed": true
   },
   "outputs": [],
   "source": [
    "count_vectorizer = CountVectorizer()\n",
    "X = count_vectorizer.fit_transform(count_text)"
   ]
  },
  {
   "cell_type": "code",
   "execution_count": 19,
   "metadata": {},
   "outputs": [
    {
     "name": "stderr",
     "output_type": "stream",
     "text": [
      "/Users/gabrielruiz/anaconda/lib/python3.6/site-packages/sklearn/decomposition/online_lda.py:508: DeprecationWarning: The default value for 'learning_method' will be changed from 'online' to 'batch' in the release 0.20. This warning was introduced in 0.18.\n",
      "  DeprecationWarning)\n"
     ]
    },
    {
     "data": {
      "text/plain": [
       "LatentDirichletAllocation(batch_size=128, doc_topic_prior=None,\n",
       "             evaluate_every=-1, learning_decay=0.7, learning_method=None,\n",
       "             learning_offset=10.0, max_doc_update_iter=100, max_iter=10,\n",
       "             mean_change_tol=0.001, n_jobs=1, n_topics=60, perp_tol=0.1,\n",
       "             random_state=4444, topic_word_prior=None,\n",
       "             total_samples=1000000.0, verbose=0)"
      ]
     },
     "execution_count": 19,
     "metadata": {},
     "output_type": "execute_result"
    }
   ],
   "source": [
    "n_topics = 60\n",
    "n_iter = 10\n",
    "\n",
    "lda = LatentDirichletAllocation(n_topics=n_topics,\n",
    "                                max_iter=n_iter,\n",
    "                                random_state=rseed)\n",
    "\n",
    "lda.fit(X)"
   ]
  },
  {
   "cell_type": "code",
   "execution_count": null,
   "metadata": {},
   "outputs": [],
   "source": [
    "import pyLDAvis, pyLDAvis.sklearn\n",
    "from IPython.display import display\n",
    "\n",
    "# Setup to run in Jupyter notebook\n",
    "pyLDAvis.enable_notebook()\n",
    "\n",
    "# Create the visualization\n",
    "vis = pyLDAvis.sklearn.prepare(lda, X, count_vectorizer)\n",
    "\n",
    "# # Export as a standalone HTML web page\n",
    "# pyLDAvis.save_html(vis, 'lda.html')\n",
    "\n",
    "# Let's view it!\n",
    "display(vis)"
   ]
  },
  {
   "cell_type": "code",
   "execution_count": null,
   "metadata": {},
   "outputs": [],
   "source": [
    "import matplotlib.pyplot as plt\n",
    "from wordcloud import WordCloud, ImageColorGenerator\n",
    "from PIL import Image\n",
    "import random\n",
    "\n",
    "def print_topic_word_clouds(model, cv, n_top_words=10):\n",
    "    feature_names = cv.get_feature_names()\n",
    "    \n",
    "    pizza_coloring = np.array(Image.open(\"circle_mask.jpg\"))\n",
    "    \n",
    "    def orange_color_func(word, font_size, position, orientation, random_state=None,\n",
    "                    **kwargs):\n",
    "        return \"hsl(24, 100%%, %d%%)\" % random.randint(30, 70)\n",
    "#    image_colors = ImageColorGenerator(pizza_coloring)\n",
    "#    image_colors= '#ff6347 '\n",
    "\n",
    "    for topic_vec in enumerate(model.components_):\n",
    "        topic_num = topic_vec[0]\n",
    "        topic_words = topic_vec[1]\n",
    "\n",
    "        print('Topic {}'.format(topic_num + 1))\n",
    "\n",
    "        topic_values = dict(sorted(zip(feature_names,topic_words),\n",
    "                              reverse=True, key=lambda x: x[1])[:n_top_words])\n",
    "#         plt.figure()\n",
    "    #        plt.imshow(WordCloud(background_color = 'black',mask=pizza_coloring).fit_words(topic_values).recolor(color_func=image_colors))\n",
    "        (WordCloud(background_color = '#FFFFFF', mask=pizza_coloring)\n",
    "                       .fit_words(topic_values)\n",
    "                       .recolor(color_func=orange_color_func, random_state=3)\n",
    "                       .to_file('./presentation/word_cloud/' + str(topic_num) + '.jpg'))\n",
    "#         plt.imshow(WordCloud(background_color = '#FFFFFF', mask=pizza_coloring)\n",
    "#                    .fit_words(topic_values)\n",
    "#                    .recolor(color_func=orange_color_func, random_state=3))\n",
    "\n",
    "#         plt.axis(\"off\")\n",
    "#         plt.title(\"Topic {}\".format(topic_num + 1))\n",
    "#         plt.show()\n",
    "    #        print(' '.join([y for x,y in topic_values]))\n",
    "#         print(topic_values)\n",
    "        # pprint(topic_values)\n",
    "\n",
    "    return"
   ]
  },
  {
   "cell_type": "code",
   "execution_count": null,
   "metadata": {
    "collapsed": true
   },
   "outputs": [],
   "source": [
    "print_topic_word_clouds(lda,count_vectorizer)"
   ]
  },
  {
   "cell_type": "code",
   "execution_count": null,
   "metadata": {
    "collapsed": true
   },
   "outputs": [],
   "source": [
    "pyLDAvis.save_html(vis, '2010lda.html')"
   ]
  },
  {
   "cell_type": "code",
   "execution_count": null,
   "metadata": {
    "collapsed": true
   },
   "outputs": [],
   "source": [
    "import dill\n",
    "with open('2016_2010_threads.pkl', 'wb') as f:\n",
    "    dill.dump(threads, f)"
   ]
  },
  {
   "cell_type": "markdown",
   "metadata": {},
   "source": [
    "# Topics over time"
   ]
  },
  {
   "cell_type": "code",
   "execution_count": 20,
   "metadata": {
    "collapsed": true
   },
   "outputs": [],
   "source": [
    "df = pd.DataFrame.from_dict(threads, orient='index')"
   ]
  },
  {
   "cell_type": "code",
   "execution_count": 21,
   "metadata": {
    "collapsed": true
   },
   "outputs": [],
   "source": [
    "lda_data = pd.DataFrame(lda.transform(X), index=df.index)"
   ]
  },
  {
   "cell_type": "code",
   "execution_count": 22,
   "metadata": {
    "collapsed": true
   },
   "outputs": [],
   "source": [
    "def get_top_topics(row, topics=5):\n",
    "    return np.argsort(row)[-topics:]"
   ]
  },
  {
   "cell_type": "code",
   "execution_count": 23,
   "metadata": {
    "collapsed": true
   },
   "outputs": [],
   "source": [
    "lda_topics = pd.DataFrame(lda_data.apply(get_top_topics, axis=1), index=df.index)"
   ]
  },
  {
   "cell_type": "code",
   "execution_count": 24,
   "metadata": {},
   "outputs": [],
   "source": [
    "lda_topics.columns = ['maintopic_{}'.format(x+1) for x in range(len(lda_topics.columns))]"
   ]
  },
  {
   "cell_type": "code",
   "execution_count": 25,
   "metadata": {},
   "outputs": [],
   "source": [
    "df2 = pd.concat([df, lda_topics], axis=1)"
   ]
  },
  {
   "cell_type": "code",
   "execution_count": null,
   "metadata": {
    "collapsed": true
   },
   "outputs": [],
   "source": [
    "# topic_names = get_topic_top_words(lda, count_vectorizer, 1)"
   ]
  },
  {
   "cell_type": "code",
   "execution_count": null,
   "metadata": {
    "collapsed": true
   },
   "outputs": [],
   "source": [
    "# df2 = pd.concat([df2, df2.topic_num.apply(lambda x: topic_names[x]).rename('topic_name')], axis=1)"
   ]
  },
  {
   "cell_type": "code",
   "execution_count": 43,
   "metadata": {},
   "outputs": [],
   "source": []
  },
  {
   "cell_type": "code",
   "execution_count": 55,
   "metadata": {},
   "outputs": [
    {
     "name": "stderr",
     "output_type": "stream",
     "text": [
      "/Users/gabrielruiz/anaconda/lib/python3.6/site-packages/ipykernel_launcher.py:4: SettingWithCopyWarning: \n",
      "A value is trying to be set on a copy of a slice from a DataFrame.\n",
      "Try using .loc[row_indexer,col_indexer] = value instead\n",
      "\n",
      "See the caveats in the documentation: http://pandas.pydata.org/pandas-docs/stable/indexing.html#indexing-view-versus-copy\n",
      "  after removing the cwd from sys.path.\n"
     ]
    }
   ],
   "source": [
    "topics_of_interest = [36, 25, 9, 11, 41, 48]\n",
    "mask = (df2.timestamp.dt.year == 2016) & (df2.iloc[:, 3:].isin(topics_of_interest).any(axis=1))\n",
    "df3 = df2[mask]\n",
    "df3['month'] = df3.timestamp.dt.month\n",
    "grpby = df3.groupby(['month'])\n",
    "df4 = pd.concat([grpby['maintopic_1'].value_counts(), grpby['maintopic_2'].value_counts(), \n",
    "                 grpby['maintopic_3'].value_counts(), grpby['maintopic_4'].value_counts(),\n",
    "                 grpby['maintopic_5'].value_counts()]).reset_index()\n",
    "df5 = df4[df4.loc[:, 'maintopic_1'].isin(topics_of_interest)]\n",
    "mlg3 = df5.groupby(['month','maintopic_1']).sum()\n",
    "mlg4 = mlg3.pivot_table(values=0, index='month', columns='maintopic_1', aggfunc='sum').sort_values(1, ascending=False, axis=1).T\n",
    "mlg4 = mlg4.div(mlg4.sum(axis=0), axis=1)"
   ]
  },
  {
   "cell_type": "code",
   "execution_count": 56,
   "metadata": {},
   "outputs": [
    {
     "data": {
      "image/png": "[encoded data removed]",
      "text/plain": [
       "<matplotlib.figure.Figure at 0x11e42e6a0>"
      ]
     },
     "metadata": {},
     "output_type": "display_data"
    }
   ],
   "source": [
    "fig, ax = plt.subplots(figsize=(15, 10))\n",
    "# ax.set_figure(10)\n",
    "ax.stackplot(mlg4.columns, mlg4, labels=mlg4.index)\n",
    "ax.set_xticks(range(1,13))\n",
    "ax.legend(bbox_to_anchor=(1.1, 1.0));\n",
    "plt.title('Topics over time in 2016')\n",
    "plt.xlabel('Months')\n",
    "plt.ylabel('Percentage of Topics');"
   ]
  },
  {
   "cell_type": "code",
   "execution_count": 57,
   "metadata": {},
   "outputs": [
    {
     "name": "stderr",
     "output_type": "stream",
     "text": [
      "/Users/gabrielruiz/anaconda/lib/python3.6/site-packages/ipykernel_launcher.py:4: SettingWithCopyWarning: \n",
      "A value is trying to be set on a copy of a slice from a DataFrame.\n",
      "Try using .loc[row_indexer,col_indexer] = value instead\n",
      "\n",
      "See the caveats in the documentation: http://pandas.pydata.org/pandas-docs/stable/indexing.html#indexing-view-versus-copy\n",
      "  after removing the cwd from sys.path.\n"
     ]
    }
   ],
   "source": [
    "mask = (df2.timestamp.dt.year == 2010) & (df2.iloc[:, 3:].isin(topics_of_interest).any(axis=1))\n",
    "df3_ = df2[mask]\n",
    "df3_['month'] = df3_.timestamp.dt.month\n",
    "grpby_ = df3_.groupby(['month'])\n",
    "df4_ = pd.concat([grpby_['maintopic_1'].value_counts(), grpby_['maintopic_2'].value_counts(), \n",
    "                 grpby_['maintopic_3'].value_counts(), grpby_['maintopic_4'].value_counts(),\n",
    "                 grpby_['maintopic_5'].value_counts()]).reset_index()\n",
    "df5_ = df4_[df4_.loc[:, 'maintopic_1'].isin(topics_of_interest)]\n",
    "mlg3_ = df5_.groupby(['month','maintopic_1']).sum()\n",
    "mlg4_ = mlg3_.pivot_table(values=0, index='month', columns='maintopic_1', aggfunc='sum').sort_values(1, ascending=False, axis=1).T\n",
    "mlg4_ = mlg4_.div(mlg4_.sum(axis=0), axis=1)\n",
    "mlg4_ = mlg4_.reindex(mlg4.index)"
   ]
  },
  {
   "cell_type": "code",
   "execution_count": 58,
   "metadata": {},
   "outputs": [
    {
     "data": {
      "image/png": "[encoded data removed]",
      "text/plain": [
       "<matplotlib.figure.Figure at 0x11e490c50>"
      ]
     },
     "metadata": {},
     "output_type": "display_data"
    }
   ],
   "source": [
    "fig, ax = plt.subplots(figsize=(15, 10))\n",
    "# ax.set_figure(10)\n",
    "ax.stackplot(mlg4_.columns, mlg4_, labels=mlg4_.index)\n",
    "ax.set_xticks(range(1,13))\n",
    "ax.legend(bbox_to_anchor=(1.1, 1.0));\n",
    "plt.title('Topics over time in 2010')\n",
    "plt.xlabel('Months')\n",
    "plt.ylabel('Percentage of Topics');"
   ]
  },
  {
   "cell_type": "code",
   "execution_count": null,
   "metadata": {
    "collapsed": true
   },
   "outputs": [],
   "source": []
  },
  {
   "cell_type": "code",
   "execution_count": null,
   "metadata": {
    "collapsed": true
   },
   "outputs": [],
   "source": []
  },
  {
   "cell_type": "code",
   "execution_count": null,
   "metadata": {
    "collapsed": true
   },
   "outputs": [],
   "source": []
  },
  {
   "cell_type": "code",
   "execution_count": null,
   "metadata": {},
   "outputs": [],
   "source": [
    "ax = plt.axes()\n",
    "ax.stackplot(mlg4.columns, mlg4, labels=mlg4.index)\n",
    "ax.set_xticks(range(1,13))\n",
    "ax.legend();"
   ]
  },
  {
   "cell_type": "code",
   "execution_count": null,
   "metadata": {},
   "outputs": [],
   "source": [
    "df5.groupby(['month','maintopic_1']).sum()"
   ]
  },
  {
   "cell_type": "code",
   "execution_count": null,
   "metadata": {},
   "outputs": [],
   "source": [
    "plt.stackplot(df5.month.unique(), df5.groupby(['month','maintopic_1']))"
   ]
  },
  {
   "cell_type": "code",
   "execution_count": null,
   "metadata": {},
   "outputs": [],
   "source": [
    "np.row_stack(df5.iloc[:,:])"
   ]
  },
  {
   "cell_type": "code",
   "execution_count": null,
   "metadata": {
    "collapsed": true
   },
   "outputs": [],
   "source": [
    "print_topic_top_words(lda,count_vectorizer,5)"
   ]
  },
  {
   "cell_type": "markdown",
   "metadata": {},
   "source": [
    "# Score Analysis"
   ]
  },
  {
   "cell_type": "code",
   "execution_count": null,
   "metadata": {
    "collapsed": true
   },
   "outputs": [],
   "source": [
    "stories = hn.all.find({\"timestamp\": { \"$gte\" : datetime(2010,1,1), \n",
    "                                      \"$lte\" : datetime(2010,12,31)},\n",
    "                       \"type\"     :   \"story\"\n",
    "                      })"
   ]
  },
  {
   "cell_type": "code",
   "execution_count": null,
   "metadata": {
    "collapsed": true
   },
   "outputs": [],
   "source": [
    "stories = hn.all.find({\"timestamp\": { \"$gte\" : datetime(2016,1,1), \n",
    "                                      \"$lte\" : datetime(2016,12,31)},\n",
    "                       \"type\"     :   \"story\"\n",
    "                      })"
   ]
  },
  {
   "cell_type": "code",
   "execution_count": null,
   "metadata": {},
   "outputs": [],
   "source": [
    "threads = {}\n",
    "for index, data in enumerate(stories):\n",
    "    _id = data['id']\n",
    "    \n",
    "    threads[_id] = {}\n",
    "    threads[_id]['timestamp'] = data['timestamp']\n",
    "    \n",
    "    try:\n",
    "        threads[_id]['text'] = data['title']\n",
    "    except:\n",
    "        pass\n",
    "    \n",
    "    try:\n",
    "        threads[_id]['score'] = data['score']\n",
    "    except:\n",
    "        pass\n",
    "    \n",
    "    try:\n",
    "        threads[_id]['kids'] = data['kids']\n",
    "    except:\n",
    "        pass\n",
    "    \n",
    "    try:\n",
    "        threads[_id]['descendants'] = data['descendants']\n",
    "    except:\n",
    "        pass\n",
    "    \n",
    "    \n",
    "    try:\n",
    "        # catch the offchance a thread has text as well\n",
    "        threads[_id]['text'] += ' ' + data['text']\n",
    "    except:\n",
    "        pass\n",
    "    \n",
    "    print(index)\n",
    "    display.clear_output(wait=True)"
   ]
  },
  {
   "cell_type": "code",
   "execution_count": null,
   "metadata": {
    "collapsed": true
   },
   "outputs": [],
   "source": [
    "def print_variable_memory_usage():\n",
    "    for var, obj in locals().items():\n",
    "        print(var, sys.getsizeof(obj))"
   ]
  },
  {
   "cell_type": "code",
   "execution_count": null,
   "metadata": {},
   "outputs": [],
   "source": [
    "# del CountVectorizer, LatentDirichletAllocation, X, clean_text, count_text, count_vectorizer, vis, lda, stop_words\n",
    "gc.collect()"
   ]
  },
  {
   "cell_type": "code",
   "execution_count": null,
   "metadata": {
    "collapsed": true
   },
   "outputs": [],
   "source": [
    "df = pd.DataFrame.from_dict(threads, orient='index')"
   ]
  },
  {
   "cell_type": "code",
   "execution_count": null,
   "metadata": {},
   "outputs": [],
   "source": [
    "scores = df.score.apply(np.log)\n",
    "hn_orange = '#ff6600'\n",
    "hn_grey = '#f6f6ef'\n",
    "\n",
    "plt.figure(figsize=(18,13))\n",
    "ax = plt.gca()\n",
    "plt.hist(scores.values,\n",
    "         color=hn_orange,\n",
    "         range=(0, np.ceil(scores.max())));\n",
    "# sns.boxplot(df.score)\n",
    "plt.title('Scores of Stories in HN - 2016');\n",
    "plt.xlabel('Story Score (log)')\n",
    "plt.xticks(range(0,10), ['0', r'$10^1$', r'$10^2$', r'$10^3$', r'$10^4$', r'$10^5$', r'$10^6$', r'$10^7$', r'$10^8$', r'$10^9$', r'$10^{10}$'])\n",
    "plt.ylabel('Number of Stories')\n",
    "ax.set_axis_bgcolor(hn_grey)"
   ]
  },
  {
   "cell_type": "markdown",
   "metadata": {},
   "source": [
    "### Checking High Score Headlines"
   ]
  },
  {
   "cell_type": "code",
   "execution_count": null,
   "metadata": {
    "collapsed": true
   },
   "outputs": [],
   "source": [
    "corpera = []\n",
    "for data in df[df.score > 100].text.values:\n",
    "    corpera.append(data)"
   ]
  },
  {
   "cell_type": "code",
   "execution_count": null,
   "metadata": {
    "collapsed": true
   },
   "outputs": [],
   "source": [
    "clean_text = lemmatize(\n",
    "             remove_sws(\n",
    "             word_tokens(\n",
    "             remove_punct(\n",
    "             remove_links(\n",
    "             lower_alpha_num(corpera))))))"
   ]
  },
  {
   "cell_type": "code",
   "execution_count": null,
   "metadata": {
    "collapsed": true
   },
   "outputs": [],
   "source": [
    "count_text = []\n",
    "for i in clean_text:\n",
    "    count_text.append(\" \".join(i))"
   ]
  },
  {
   "cell_type": "code",
   "execution_count": null,
   "metadata": {
    "collapsed": true
   },
   "outputs": [],
   "source": [
    "count_vectorizer = CountVectorizer()\n",
    "X = count_vectorizer.fit_transform(count_text)"
   ]
  },
  {
   "cell_type": "code",
   "execution_count": null,
   "metadata": {},
   "outputs": [],
   "source": [
    "n_topics = 30\n",
    "n_iter = 10\n",
    "\n",
    "lda = LatentDirichletAllocation(n_topics=n_topics,\n",
    "                                max_iter=n_iter,\n",
    "                                random_state=rseed)\n",
    "\n",
    "lda.fit(X)"
   ]
  },
  {
   "cell_type": "code",
   "execution_count": null,
   "metadata": {
    "collapsed": true
   },
   "outputs": [],
   "source": [
    "def print_topic_top_words(model, cv, n_top_words=10):\n",
    "    feature_names = cv.get_feature_names()\n",
    "    \n",
    "    for topic_vec in enumerate(model.components_):\n",
    "        topic_num = topic_vec[0]\n",
    "        topic_words = topic_vec[1]\n",
    "        \n",
    "        print('Topic {}:'.format(topic_num))\n",
    "        \n",
    "        topic_values = sorted(zip(topic_words, feature_names),\n",
    "                              reverse=True)[:n_top_words]\n",
    "        \n",
    "        print(' '.join([y for x,y in topic_values]))\n",
    "    \n",
    "    return\n",
    "\n",
    "def get_topic_top_words(model, cv, n_top_words=10):\n",
    "    feature_names = cv.get_feature_names()\n",
    "    topics = []\n",
    "    \n",
    "    for topic_vec in enumerate(model.components_):\n",
    "        topic_num = topic_vec[0]\n",
    "        topic_words = topic_vec[1]\n",
    "        \n",
    "        topic_values = sorted(zip(topic_words, feature_names),\n",
    "                              reverse=True)[:n_top_words]\n",
    "        \n",
    "        topics.append('-'.join([y for x,y in topic_values]))\n",
    "    \n",
    "    return topics"
   ]
  },
  {
   "cell_type": "code",
   "execution_count": null,
   "metadata": {
    "collapsed": true
   },
   "outputs": [],
   "source": [
    "lda_data = pd.DataFrame(lda.transform(X), index=df[df.score > 100].index)"
   ]
  },
  {
   "cell_type": "code",
   "execution_count": null,
   "metadata": {
    "collapsed": true
   },
   "outputs": [],
   "source": [
    "lda_topics = pd.DataFrame(lda_data.apply(np.argmax, axis=1), columns=['topic_num'], index=df[df.score > 100].index)"
   ]
  },
  {
   "cell_type": "code",
   "execution_count": null,
   "metadata": {
    "collapsed": true
   },
   "outputs": [],
   "source": [
    "# pd.concat([lda_data.apply(np.argmax, axis=1).rename('main_topic'), lda_data],axis=1)\n",
    "df2 = pd.concat([df[df.score > 100], lda_topics], axis=1)"
   ]
  },
  {
   "cell_type": "code",
   "execution_count": null,
   "metadata": {
    "collapsed": true
   },
   "outputs": [],
   "source": [
    "# df2.main_topic.value_counts()"
   ]
  },
  {
   "cell_type": "code",
   "execution_count": null,
   "metadata": {
    "collapsed": true
   },
   "outputs": [],
   "source": [
    "topic_names = get_topic_top_words(lda, count_vectorizer, 1)"
   ]
  },
  {
   "cell_type": "code",
   "execution_count": null,
   "metadata": {
    "collapsed": true
   },
   "outputs": [],
   "source": [
    "df2 = pd.concat([df2, df2.topic_num.apply(lambda x: topic_names[x]).rename('topic_name')], axis=1)"
   ]
  },
  {
   "cell_type": "code",
   "execution_count": null,
   "metadata": {},
   "outputs": [],
   "source": [
    "print_topic_top_words(lda,count_vectorizer,5)"
   ]
  },
  {
   "cell_type": "code",
   "execution_count": null,
   "metadata": {},
   "outputs": [],
   "source": [
    "df2[df2.topic_num == 14].text.apply(print)"
   ]
  },
  {
   "cell_type": "code",
   "execution_count": null,
   "metadata": {
    "collapsed": true
   },
   "outputs": [],
   "source": [
    "def func(x):\n",
    "    if type(x) == list:\n",
    "        return len(x)\n",
    "    else:\n",
    "        # the nans will get ya\n",
    "        return 0"
   ]
  },
  {
   "cell_type": "code",
   "execution_count": null,
   "metadata": {
    "collapsed": true
   },
   "outputs": [],
   "source": [
    "# df2['num_kids'] = df2.kids.apply(func)"
   ]
  },
  {
   "cell_type": "code",
   "execution_count": null,
   "metadata": {
    "collapsed": true
   },
   "outputs": [],
   "source": [
    "# columns = list(df2.columns[:4]) + ['main_topic', 'topic_name', 'num_kids']"
   ]
  },
  {
   "cell_type": "code",
   "execution_count": null,
   "metadata": {
    "collapsed": true
   },
   "outputs": [],
   "source": [
    "# df2.columns = columns"
   ]
  },
  {
   "cell_type": "code",
   "execution_count": null,
   "metadata": {
    "collapsed": true
   },
   "outputs": [],
   "source": [
    "# df2.head()"
   ]
  },
  {
   "cell_type": "code",
   "execution_count": null,
   "metadata": {
    "collapsed": true
   },
   "outputs": [],
   "source": [
    "df3 = df2.groupby(['topic_num', 'topic_name']).sum().reset_index()"
   ]
  },
  {
   "cell_type": "code",
   "execution_count": null,
   "metadata": {},
   "outputs": [],
   "source": [
    "df3"
   ]
  },
  {
   "cell_type": "code",
   "execution_count": null,
   "metadata": {},
   "outputs": [],
   "source": [
    "N = df3.topic_num.count() # Number of labels\n",
    "\n",
    "# define the colormap\n",
    "cmap = plt.cm.jet\n",
    "# extract all colors from the .jet map\n",
    "cmaplist = [cmap(i) for i in range(cmap.N)]\n",
    "# create the new map\n",
    "cmap = cmap.from_list('Custom cmap', cmaplist, cmap.N)\n",
    "\n",
    "# define the bins and normalize\n",
    "bounds = np.linspace(0,N,N+1)\n",
    "norm = matplotlib.colors.BoundaryNorm(bounds, cmap.N)\n",
    "\n",
    "with sns.axes_style(\"darkgrid\"):\n",
    "    with sns.plotting_context('poster', font_scale=1.3):\n",
    "        fig, ax = plt.subplots(1,1, figsize=(25,15))\n",
    "        scatter = ax.scatter(np.log(df3.descendants), np.log(df3.score),\n",
    "                             s=30,\n",
    "                             alpha=1,\n",
    "                             norm=norm,\n",
    "                             c=df3.topic_num,\n",
    "                             cmap=cmap)\n",
    "        # cb = plt.colorbar(scatter, spacing='proportional',ticks=bounds)\n",
    "        # cb.set_label('Topics')\n",
    "\n",
    "        ax.set_xlabel('Comments (log)')\n",
    "        ax.set_ylabel('Score (log)')\n",
    "\n",
    "        for xy in zip(np.log(df3.descendants), np.log(df3.score), df3.topic_name):\n",
    "            nudge = 0.007\n",
    "            ax.annotate('%s' % xy[2], xy=(xy[0]+nudge+nudge, xy[1]-0.003), textcoords='data', fontsize=16)\n",
    "        ax.set_title('Topics Mapped to Scores and Comments');"
   ]
  },
  {
   "cell_type": "code",
   "execution_count": null,
   "metadata": {
    "collapsed": true
   },
   "outputs": [],
   "source": [
    "df3['score_log'] = np.log(df3.score)\n",
    "df3['descendants_log'] = np.log(df3.descendants)"
   ]
  },
  {
   "cell_type": "code",
   "execution_count": null,
   "metadata": {
    "collapsed": true
   },
   "outputs": [],
   "source": [
    "df3.descendants_log.describe()"
   ]
  },
  {
   "cell_type": "code",
   "execution_count": null,
   "metadata": {
    "collapsed": true
   },
   "outputs": [],
   "source": [
    "sns.set(style=\"darkgrid\", color_codes=True)\n",
    "plt.figure(figsize=(8, 6))\n",
    "plt.scatter(df3.descendants_log, df3.score_log, marker='.');\n",
    "# plt.legend()\n",
    "# sns.swarmplot(x=\"descendants_log\", y=\"score_log\", data=df3, hue=\"topic_num\")\n",
    "# plt.xticks(range(0,50), range(0,50));"
   ]
  },
  {
   "cell_type": "code",
   "execution_count": null,
   "metadata": {
    "collapsed": true
   },
   "outputs": [],
   "source": [
    "import pyLDAvis, pyLDAvis.sklearn\n",
    "from IPython.display import display\n",
    "\n",
    "# Setup to run in Jupyter notebook\n",
    "pyLDAvis.enable_notebook()\n",
    "\n",
    "# Create the visualization\n",
    "vis = pyLDAvis.sklearn.prepare(lda, X, count_vectorizer)\n",
    "\n",
    "# # Export as a standalone HTML web page\n",
    "# pyLDAvis.save_html(vis, 'lda.html')\n",
    "\n",
    "# Let's view it!\n",
    "display(vis)"
   ]
  },
  {
   "cell_type": "markdown",
   "metadata": {},
   "source": [
    "# Searching for 2016\n"
   ]
  },
  {
   "cell_type": "code",
   "execution_count": null,
   "metadata": {
    "collapsed": true
   },
   "outputs": [],
   "source": [
    "# In 2008 there was 6153 articles that produced over commentary greater than 10\n",
    "6153/365"
   ]
  },
  {
   "cell_type": "code",
   "execution_count": null,
   "metadata": {
    "collapsed": true
   },
   "outputs": [],
   "source": [
    "import requests\n",
    "from datetime import datetime"
   ]
  },
  {
   "cell_type": "code",
   "execution_count": null,
   "metadata": {
    "collapsed": true
   },
   "outputs": [],
   "source": [
    "jan2016 = 10821140\n",
    "t2 = requests.get('https://hacker-news.firebaseio.com/v0/item/' + str(jan2016) + '.json?print=pretty')\n",
    "datetime.fromtimestamp(t2.json()['time'])"
   ]
  },
  {
   "cell_type": "code",
   "execution_count": null,
   "metadata": {
    "collapsed": true
   },
   "outputs": [],
   "source": [
    "dec2016 = 13294752\n",
    "t2 = requests.get('https://hacker-news.firebaseio.com/v0/item/' + str(dec2016) + '.json?print=pretty')\n",
    "datetime.fromtimestamp(t2.json()['time'])"
   ]
  },
  {
   "cell_type": "code",
   "execution_count": null,
   "metadata": {
    "collapsed": true
   },
   "outputs": [],
   "source": [
    "(dec2016-jan2016)/4"
   ]
  },
  {
   "cell_type": "code",
   "execution_count": null,
   "metadata": {
    "collapsed": true
   },
   "outputs": [],
   "source": [
    "10821140 + 618403 + 618403"
   ]
  },
  {
   "cell_type": "code",
   "execution_count": null,
   "metadata": {
    "collapsed": true
   },
   "outputs": [],
   "source": [
    "11439543 - 11532315"
   ]
  },
  {
   "cell_type": "code",
   "execution_count": null,
   "metadata": {
    "collapsed": true
   },
   "outputs": [],
   "source": [
    "X.shape"
   ]
  },
  {
   "cell_type": "code",
   "execution_count": null,
   "metadata": {
    "collapsed": true
   },
   "outputs": [],
   "source": []
  }
 ],
 "metadata": {
  "kernelspec": {
   "display_name": "Python 3",
   "language": "python",
   "name": "python3"
  },
  "language_info": {
   "codemirror_mode": {
    "name": "ipython",
    "version": 3
   },
   "file_extension": ".py",
   "mimetype": "text/x-python",
   "name": "python",
   "nbconvert_exporter": "python",
   "pygments_lexer": "ipython3",
   "version": "3.6.1"
  }
 },
 "nbformat": 4,
 "nbformat_minor": 2
}
